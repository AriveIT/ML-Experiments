{
 "cells": [
  {
   "cell_type": "markdown",
   "id": "442a6efd",
   "metadata": {},
   "source": [
    "example: https://github.com/SurenderHarsha/Arakanoid_Genetic_Algorithm\n",
    "\n",
    "environement: https://ale.farama.org/environments/breakout/"
   ]
  },
  {
   "cell_type": "code",
   "execution_count": null,
   "id": "66b911be",
   "metadata": {},
   "outputs": [],
   "source": [
    "import gymnasium as gym\n",
    "import ale_py\n",
    "\n",
    "gym.register_envs(ale_py) # needed so gym can see breakout environment\n",
    "\n",
    "env = gym.make('BreakoutNoFrameskip-v4', render_mode=None) # \"human\" causes ipynb kernel to crash, but lets us see pretty colours\n",
    "\n",
    "obs, info = env.reset()\n",
    "\n",
    "\n",
    "for i in range(1000):\n",
    "    obs, reward, terminated, truncated, info = env.step(env.action_space.sample())\n",
    "\n",
    "    if terminated or truncated:\n",
    "        break\n",
    "\n",
    "env.close()"
   ]
  }
 ],
 "metadata": {
  "kernelspec": {
   "display_name": "Python 3",
   "language": "python",
   "name": "python3"
  },
  "language_info": {
   "codemirror_mode": {
    "name": "ipython",
    "version": 3
   },
   "file_extension": ".py",
   "mimetype": "text/x-python",
   "name": "python",
   "nbconvert_exporter": "python",
   "pygments_lexer": "ipython3",
   "version": "3.10.11"
  }
 },
 "nbformat": 4,
 "nbformat_minor": 5
}
